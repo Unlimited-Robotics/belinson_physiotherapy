{
 "cells": [
  {
   "cell_type": "code",
   "execution_count": null,
   "metadata": {},
   "outputs": [],
   "source": [
    "'''Imports'''\n",
    "import matplotlib.pyplot as plt\n",
    "import cv2\n",
    "import numpy as np\n",
    "from mpl_toolkits.axes_grid1 import ImageGrid"
   ]
  },
  {
   "cell_type": "code",
   "execution_count": null,
   "metadata": {},
   "outputs": [],
   "source": [
    "'''Define helpers'''\n",
    "\n",
    "def find_connected_components(image):\n",
    "\n",
    "    # Binarize image and make a negative (cv2 connected components works better with a black background,\n",
    "    # and the background of the maps are white when using the function in this implementation)\n",
    "    bin_img = cv2.threshold(image, 127, 255, cv2.THRESH_BINARY)[1]\n",
    "    bin_img = 255 - bin_img\n",
    "\n",
    "    # Find connected components\n",
    "    num_labels, labels, stats, centroids = cv2.connectedComponentsWithStats(bin_img, connectivity = 4)\n",
    "\n",
    "    #Map component labels to hue val\n",
    "    label_hue = np.uint8(179*labels/np.max(labels))\n",
    "    blank_ch = 255*np.ones_like(label_hue)\n",
    "    labeled_img = cv2.merge([label_hue, blank_ch, blank_ch])\n",
    "\n",
    "    # convert to BGR for display\n",
    "    labeled_img = cv2.cvtColor(labeled_img, cv2.COLOR_HSV2BGR)\n",
    "\n",
    "    # Return labeled image and other params\n",
    "    return labeled_img, labels, num_labels, stats\n",
    "\n",
    "\n",
    "def remove_small_connected_components(image, labels, num_labels, stats, min_size = 20):\n",
    "    \n",
    "    # Create an output image with the same dimensions as the input\n",
    "    output_img = np.zeros_like(image)\n",
    "    \n",
    "    # Iterate through connected components\n",
    "    for label in range(1, num_labels):\n",
    "        if stats[label, cv2.CC_STAT_AREA] >= min_size:\n",
    "            output_img[labels == label] = 255\n",
    "    \n",
    "    # Convert to gray and negative (make the background white again since the\n",
    "    # find_connected_components function made it black)\n",
    "    output_img = cv2.cvtColor(output_img, cv2.COLOR_BGR2GRAY)\n",
    "    output_img = np.uint8(255 - output_img)\n",
    "\n",
    "    return output_img"
   ]
  },
  {
   "cell_type": "code",
   "execution_count": null,
   "metadata": {},
   "outputs": [],
   "source": [
    "'''Clean the maps'''\n",
    "\n",
    "# Original image\n",
    "map = plt.imread('belinson_martin_notags.pgm')\n",
    "\n",
    "# Extraction of gray levels assuming the map only contains 3 gray levels\n",
    "gray_levels = np.unique(map)\n",
    "black, gray, white = gray_levels[0], gray_levels[1], gray_levels[2]\n",
    "\n",
    "# Median filtered\n",
    "median = cv2.medianBlur(map, 5)\n",
    "\n",
    "# Dilation\n",
    "dilation_kernel = np.ones((3,3),np.uint8)\n",
    "dilation = cv2.dilate(median, dilation_kernel, iterations = 1)\n",
    "\n",
    "# Remove small connected components\n",
    "labeled_img, labels, num_labels, stats = find_connected_components(dilation)\n",
    "no_small_components = remove_small_connected_components(labeled_img, labels, num_labels, stats)\n",
    "no_small_components[dilation == gray] = gray\n",
    "\n",
    "# Edge detection + preparing to merge with non-binarized image\n",
    "edges = cv2.Canny(image = no_small_components, threshold1 = 100, threshold2 = 200)\n",
    "edges += 1\n",
    "\n",
    "# Merge edges with non-binarized image\n",
    "final_not_eroded = no_small_components * edges\n",
    "\n",
    "# Erosion\n",
    "erosion_kernel = np.ones((1,3), np.uint8)\n",
    "final_eroded = cv2.erode(final_not_eroded, erosion_kernel, iterations = 1)"
   ]
  },
  {
   "cell_type": "code",
   "execution_count": null,
   "metadata": {},
   "outputs": [],
   "source": [
    "'''Display results'''\n",
    "\n",
    "fig = plt.figure(figsize = (15,10))\n",
    "grid = ImageGrid(fig, 111, nrows_ncols = (1,7), axes_pad = 0.4)\n",
    "\n",
    "grid[0].imshow(map, cmap = 'gray')\n",
    "grid[0].set_title('Original Image', fontsize = 15)\n",
    "grid[0].axis('off')\n",
    "\n",
    "grid[1].imshow(median, cmap = 'gray')\n",
    "grid[1].set_title('Median Filtered', fontsize = 15)\n",
    "grid[1].axis('off')\n",
    "\n",
    "grid[2].imshow(dilation, cmap = 'gray')\n",
    "grid[2].set_title('Dilated Image', fontsize = 15)\n",
    "grid[2].axis('off')\n",
    "\n",
    "grid[3].imshow(no_small_components, cmap = 'gray')\n",
    "grid[3].set_title('No\\nSmall Components', fontsize = 15)\n",
    "grid[3].axis('off')\n",
    "\n",
    "grid[4].imshow(edges, cmap = 'gray')\n",
    "grid[4].set_title('Edges', fontsize = 15)\n",
    "grid[4].axis('off')\n",
    "\n",
    "grid[5].imshow(final_not_eroded, cmap = 'gray')\n",
    "grid[5].set_title('Final Map\\nNot Eroded', fontsize = 15)\n",
    "grid[5].axis('off')\n",
    "\n",
    "grid[6].imshow(final_eroded, cmap = 'gray')\n",
    "grid[6].set_title('Final Map\\nEroded', fontsize = 15)\n",
    "grid[6].axis('off')"
   ]
  },
  {
   "cell_type": "code",
   "execution_count": null,
   "metadata": {},
   "outputs": [],
   "source": []
  },
  {
   "cell_type": "code",
   "execution_count": null,
   "metadata": {},
   "outputs": [],
   "source": []
  },
  {
   "cell_type": "code",
   "execution_count": null,
   "metadata": {},
   "outputs": [],
   "source": []
  },
  {
   "cell_type": "code",
   "execution_count": null,
   "metadata": {},
   "outputs": [],
   "source": [
    "BUFFER_IDS = {'buffer_6bd928a55b4ab48c8f6b3af358d3f58c1aeee409': 'dat:tts_audio/VOICE_EXPLAIN_FINGER_OR_WAND_HEBREW.mp3', 'buffer_b943affcd0e165eaac6192c0c87f52fbeb2672f1': 'dat:tts_audio/VOICE_DANIEL_IS_A_MEME_HEBREW.mp3', 'buffer_40c177a0006cbbba0b4b5e95ec8f449f6348bd08': 'dat:tts_audio/VOICE_TRIVIA_QUESTION_1_MEDIUM_HEBREW.mp3', 'buffer_f9aa1dd57aa7c1885319ef4c1d28d45aecb43925': 'dat:tts_audio/VOICE_CARD_MATCH_4_HEBREW.mp3', 'buffer_3beff3faa17caeda63839b7fd33b9bf29a2c4dda': 'dat:tts_audio/VOICE_STOP_BUT_REGRET_HEBREW.mp3', 'buffer_5e3b5f74a8d8586941817759b05afec10141b04b': 'dat:tts_audio/VOICE_STRAIGHT_HEAD_HEBREW.mp3', 'buffer_2488a3a7dfaae91ec228b4eba370ddc2f79c32ac': 'dat:tts_audio/VOICE_CONTINUE_STAGE_HEBREW.mp3', 'buffer_eaa5b087aa37653bcb8fcd72e51e19b4d5d9eae4': 'dat:tts_audio/VOICE_CARD_MISMATCH_1_HEBREW.mp3', 'buffer_19e6e4f4c9734532c89d80886dc90f152a20a6b1': 'dat:tts_audio/VOICE_DIFFERENCE_GAME_HEBREW.mp3', 'buffer_c2fa1b4c0f5dc419d9911c49577712423c847309': 'dat:tts_audio/VOICE_END_TREATMENT_HEBREW.mp3', 'buffer_2915cbd1e4d2a3668bf36d072317776fd954c74d': 'dat:tts_audio/VOICE_CARD_MISMATCH_2_HEBREW.mp3', 'buffer_a46f436a7a5c9e68bb9b9875382707b39a872b76': 'dat:tts_audio/VOICE_INTRODUCTION_HEBREW.mp3', 'buffer_71ee06245388d55fb12cf8c21e226382c520d6c7': 'dat:tts_audio/VOICE_PLEASE_MOVE_HEBREW.mp3', 'buffer_3f0afc4ca95d20c7c0168b29395230a5f6c9a116': 'dat:tts_audio/VOICE_NO_TIME_FOR_CAUTION_HEBREW.mp3', 'buffer_9f457abe8d3dbb6e950c3ee8da72d82a554db952': 'dat:tts_audio/VOICE_STOP_CONDITION_HEBREW.mp3', 'buffer_fe3489c3eea2cd215e5a12629a80cfe71430d080': 'dat:tts_audio/VOICE_MOVE_UNTIL_STOP_HEBREW.mp3', 'buffer_ee35c25f1f02e59976d89564607e566707661e95': 'dat:tts_audio/VOICE_BELINSON_HEBREW.mp3', 'buffer_2f34f89aa3c22c17a452f0fa1cf49874e2a07cd4': 'dat:tts_audio/VOICE_FEEDBACK_OKAY_HEBREW.mp3', 'buffer_29cb59cb20375320d214de84de48590123c0156c': 'dat:tts_audio/VOICE_FINGER_OR_WAND_CHOICE_HEBREW.mp3', 'buffer_f4b4f17485acfab52cc1b0091b4b87127ee12d36': 'dat:tts_audio/VOICE_TRIVIA_QUESTION_2_MEDIUM_HEBREW.mp3', 'buffer_0d5edf264a07689eddac7b5d88798a29a2184b16': 'dat:tts_audio/VOICE_SIT_STRAIGHT_HEBREW.mp3', 'buffer_b8877992189b3e1fcd6fa1bdf9b7336e24ccd687': 'dat:tts_audio/VOICE_COULDNT_REACH_DESTINATION_HEBREW.mp3', 'buffer_99c566ab6c7b27675f2bc84f29c494c04b5734a6': 'dat:tts_audio/VOICE_TOUCHSCREEN_HEBREW.mp3', 'buffer_2ea850178e961d2dc7bc8566c115bf415d18b55e': 'dat:tts_audio/VOICE_CARD_MATCH_LAST_HEBREW.mp3', 'buffer_80e32a6fdd1f33e717ee162a51b20199e4f642f5': 'dat:tts_audio/VOICE_PRESS_BUTTON_HEBREW.mp3', 'buffer_0d0a7bfb8c9661a810fcd0846b48c0592867fe5f': 'dat:tts_audio/VOICE_GERIATRIC_HEBREW.mp3', 'buffer_ee2bcc2c24d5f0244e162938aa853549e932d346': 'dat:tts_audio/VOICE_GET_OUT_OF_THE_WAY_HEBREW.mp3', 'buffer_94fc3ba5ede4c2fd82e7a33fd04103113e4b884d': 'dat:tts_audio/VOICE_BACKUP_CURRENT_TIME_HEBREW.mp3', 'buffer_8bf82bf7c402cbd6400e531a6ccb44eb13c802a4': 'dat:tts_audio/VOICE_ARRIVING_HEBREW.mp3', 'buffer_5ce9d45128516c825688fa7eddeb75599ca2bfa8': 'dat:tts_audio/VOICE_TRIVIA_QUESTION_3_MEDIUM_HEBREW.mp3', 'buffer_3bb95fea9f8f96a24f887bbb52725e0ec2e53a47': 'dat:tts_audio/VOICE_GUIDELINES_HEBREW.mp3', 'buffer_2c29bcc536ad004b896fcfb4e0cbb32e234e964d': 'dat:tts_audio/VOICE_ABORTED_BY_STAFF_HEBREW.mp3', 'buffer_b0f70c28d3e42c57f3242102c971362af173b6c4': 'dat:tts_audio/VOICE_TAKE_STICK_HEBREW.mp3', 'buffer_4956b3ac1ac7f68ac736b4bee2a86a1f04a7295b': 'dat:tts_audio/VOICE_EXPLAIN_SESSION_HEBREW.mp3', 'buffer_f8cbfb5c515ea454858e83cf93e99791a4598f84': 'dat:tts_audio/VOICE_CARD_MATCH_1_HEBREW.mp3', 'buffer_032b4532d372a8ccad188e2dc1da37ec4f89536c': 'dat:tts_audio/VOICE_CLEAR_APPROACH_OBSTACLES_HEBREW.mp3', 'buffer_6ab9000f33c9e8f8f50884ad713dff96a981c906': 'dat:tts_audio/VOICE_MEMORY_GAME_HEBREW.mp3', 'buffer_a75e9ad211b2c706fe802e0a0b2b692433ca4a4d': 'dat:tts_audio/wrong_answer_sound.mp3', 'buffer_66533affed04e110bc473e9c1adcec419e9efe9f': 'dat:tts_audio/VOICE_COULDNT_GET_CLOSE_ENOUGH_HEBREW.mp3', 'buffer_2db999f119ba3acd84f0a8a4288c5b566322c0e7': 'dat:tts_audio/VOICE_PLEASE_TUCK_LEGS_HEBREW.mp3', 'buffer_b7886449632bc78b40869ef3cacf175a7c3fce5a': 'dat:tts_audio/gary_response.mp3', 'buffer_9be7d4a03d4968f76e676c2fd7ff89af745d2c12': 'dat:tts_audio/VOICE_CARD_MATCH_3_HEBREW.mp3', 'buffer_b05a749ff1d050be12f8213d5f3f74f30bf43953': 'dat:tts_audio/VOICE_TEN_SECONDS_REMAINING_HEBREW.mp3', 'buffer_d86d1f9d6cedf74bffd32e9b7c5f811a2debb57b': 'dat:tts_audio/VOICE_ABORTED_BY_PATIENT_HEBREW.mp3', 'buffer_4d46d04165c1a4b6fc0bd196f8c2adaf68db4218': 'dat:tts_audio/VOICE_BEFORE_ACTIVITIES_HEBREW.mp3', 'buffer_f66ad62362359271cb5a5171ac97caa133cb1374': 'dat:tts_audio/VOICE_MOVING_BACKWARDS_HEBREW.mp3', 'buffer_2b417b476572cb11a6d5eb308c62c53ec216866c': 'dat:tts_audio/VOICE_APPROACHING_HEBREW.mp3', 'buffer_6e50dada06e53d75f27f876b41e8b036d838bb36': 'dat:tts_audio/VOICE_RETURN_STICK_HEBREW.mp3', 'buffer_b9cd334216fb9d505277a499572a867d3e3f0c5f': 'dat:tts_audio/VOICE_LEGS_ON_FLOOR_HEBREW.mp3', 'buffer_9cb38e65434607304cfc5fef82fffe39033649b1': 'dat:tts_audio/VOICE_ABORT_REASON_HEBREW.mp3', 'buffer_93d8357947c7a4217f04c604ce3a461074f80c8f': 'dat:tts_audio/VOICE_ACTIVITIES_HEBREW.mp3', 'buffer_27baa41615db89066598fcf2a5b2455431d39618': 'dat:tts_audio/VOICE_BAD_ID_HEBREW.mp3', 'buffer_c06f70a57d1e52fb9dae29add80f8b21cf41a7f7': 'dat:tts_audio/VOICE_ASKING_FLEET_FOR_HELP_HEBREW.mp3', 'buffer_eb7b91eb6283050ceda12994d56b3bb114ecdba3': 'dat:tts_audio/button_pressed_sound.wav', 'buffer_64e1d713891611130931a14aa1172b8779efcb7d': 'dat:tts_audio/VOICE_MINUTE_REMAINING_HEBREW.mp3', 'buffer_fd6cb578ccf40d98a12aa760906b0a3e79f3b4cf': 'dat:tts_audio/VOICE_AFTER_FEEDBACK_HEBREW.mp3', 'buffer_ed5cf3192c7c64e9f47692b7b9f486a110743f8c': 'dat:tts_audio/VOICE_FEEDBACK_GOOD_HEBREW.mp3', 'buffer_9d01eaf881412199bc181654797926b74eaa9e17': 'dat:tts_audio/VOICE_TRIVIA_GAME_HEBREW.mp3', 'buffer_7b9a8ffe29b8317a49036adfe080bccfcaa2d70e': 'dat:tts_audio/VOICE_FEEDBACK_BAD_HEBREW.mp3', 'buffer_a5deafbfbd81b17444fca32506ad12ee86649057': 'dat:tts_audio/VOICE_GAME_COMPLETED_HEBREW.mp3', 'buffer_3a28ce7918a646f6827092a68bd8df081f7b32e3': 'dat:tts_audio/VOICE_SESSION_EMPHASES_HEBREW.mp3', 'buffer_2ec3a5d658df61154ffa1143cb9f6098f8b1bb37': 'dat:tts_audio/VOICE_VERIFY_PATIENT_HEBREW.mp3', 'buffer_fd365598a9433eba6947ab598fd52834fb40f47c': 'dat:tts_audio/VOICE_CARD_MISMATCH_N_HEBREW.mp3', 'buffer_438f7b223662921b839e8e8bc9838d31ae3c6dc3': 'dat:tts_audio/VOICE_CARD_MATCH_2_HEBREW.mp3', 'buffer_d8cf99b1b53e0872d3ec83ed12fd35dc6d77c532': 'dat:tts_audio/VOICE_BEFORE_COGNISHINE_HEBREW.mp3', 'buffer_383946a5b316acb9f3e3e2bf1c3ef1efc181656b': 'dat:tts_audio/VOICE_MOVING_FORWARDS_HEBREW.mp3', 'buffer_589feb3ea85c5b18c79e76cd523b7ce9cc875b96': 'dat:tts_audio/VOICE_FEEDBACK_HEBREW.mp3'}\n",
    "REC_TIMES = {'VOICE_EXPLAIN_FINGER_OR_WAND_HEBREW.mp3': 7.6180479526519775, 'VOICE_DANIEL_IS_A_MEME_HEBREW.mp3': 6.820580005645752, 'VOICE_TRIVIA_QUESTION_1_MEDIUM_HEBREW.mp3': 2.9781696796417236, 'VOICE_CARD_MATCH_4_HEBREW.mp3': 2.7024097442626953, 'VOICE_STOP_BUT_REGRET_HEBREW.mp3': 3.41317081451416, 'VOICE_STRAIGHT_HEAD_HEBREW.mp3': 3.85896372795105, 'VOICE_CONTINUE_STAGE_HEBREW.mp3': 4.171376943588257, 'VOICE_CARD_MISMATCH_1_HEBREW.mp3': 2.0405919551849365, 'VOICE_DIFFERENCE_GAME_HEBREW.mp3': 11.82339596748352, 'VOICE_END_TREATMENT_HEBREW.mp3': 7.091966152191162, 'VOICE_CARD_MISMATCH_2_HEBREW.mp3': 1.9844322204589844, 'VOICE_INTRODUCTION_HEBREW.mp3': 15.456987857818604, 'VOICE_PLEASE_MOVE_HEBREW.mp3': 3.005232810974121, 'VOICE_NO_TIME_FOR_CAUTION_HEBREW.mp3': 12.482739686965942, 'VOICE_STOP_CONDITION_HEBREW.mp3': 6.905527353286743, 'VOICE_MOVE_UNTIL_STOP_HEBREW.mp3': 7.6995673179626465, 'VOICE_BELINSON_HEBREW.mp3': 7.959827184677124, 'VOICE_FEEDBACK_OKAY_HEBREW.mp3': 4.759559392929077, 'VOICE_FINGER_OR_WAND_CHOICE_HEBREW.mp3': 8.795055150985718, 'VOICE_TRIVIA_QUESTION_2_MEDIUM_HEBREW.mp3': 4.114856719970703, 'VOICE_SIT_STRAIGHT_HEBREW.mp3': 7.865539073944092, 'VOICE_COULDNT_REACH_DESTINATION_HEBREW.mp3': 4.136565208435059, 'VOICE_TOUCHSCREEN_HEBREW.mp3': 7.542022466659546, 'VOICE_CARD_MATCH_LAST_HEBREW.mp3': 3.545989990234375, 'VOICE_PRESS_BUTTON_HEBREW.mp3': 3.4230504035949707, 'VOICE_GERIATRIC_HEBREW.mp3': 4.2677247524261475, 'VOICE_GET_OUT_OF_THE_WAY_HEBREW.mp3': 3.442479133605957, 'VOICE_BACKUP_CURRENT_TIME_HEBREW.mp3': 9.06003713607788, 'VOICE_ARRIVING_HEBREW.mp3': 7.096929311752319, 'VOICE_TRIVIA_QUESTION_3_MEDIUM_HEBREW.mp3': 5.977142333984375, 'VOICE_GUIDELINES_HEBREW.mp3': 7.888633489608765, 'VOICE_ABORTED_BY_STAFF_HEBREW.mp3': 7.41620397567749, 'VOICE_TAKE_STICK_HEBREW.mp3': 15.97906494140625, 'VOICE_EXPLAIN_SESSION_HEBREW.mp3': 4.185892581939697, 'VOICE_CARD_MATCH_1_HEBREW.mp3': 2.721837043762207, 'VOICE_CLEAR_APPROACH_OBSTACLES_HEBREW.mp3': 4.213702201843262, 'VOICE_MEMORY_GAME_HEBREW.mp3': 18.324275255203247, 'wrong_answer_sound.mp3': 2.797577381134033, 'VOICE_COULDNT_GET_CLOSE_ENOUGH_HEBREW.mp3': 5.214289426803589, 'VOICE_PLEASE_TUCK_LEGS_HEBREW.mp3': 6.682427644729614, 'gary_response.mp3': 8.8454008102417, 'VOICE_CARD_MATCH_3_HEBREW.mp3': 1.7325165271759033, 'VOICE_TEN_SECONDS_REMAINING_HEBREW.mp3': 3.9221034049987793, 'VOICE_ABORTED_BY_PATIENT_HEBREW.mp3': 4.079399585723877, 'VOICE_BEFORE_ACTIVITIES_HEBREW.mp3': 14.271104097366333, 'VOICE_MOVING_BACKWARDS_HEBREW.mp3': 4.315164804458618, 'VOICE_APPROACHING_HEBREW.mp3': 4.3822855949401855, 'VOICE_RETURN_STICK_HEBREW.mp3': 6.1239800453186035, 'VOICE_LEGS_ON_FLOOR_HEBREW.mp3': 3.53191876411438, 'VOICE_ABORT_REASON_HEBREW.mp3': 4.072263479232788, 'VOICE_ACTIVITIES_HEBREW.mp3': 8.086297273635864, 'VOICE_BAD_ID_HEBREW.mp3': 4.776260137557983, 'VOICE_ASKING_FLEET_FOR_HELP_HEBREW.mp3': 4.1013829708099365, 'button_pressed_sound.wav': 2.8774352073669434, 'VOICE_MINUTE_REMAINING_HEBREW.mp3': 6.745274305343628, 'VOICE_AFTER_FEEDBACK_HEBREW.mp3': 3.478609800338745, 'VOICE_FEEDBACK_GOOD_HEBREW.mp3': 3.8691985607147217, 'VOICE_TRIVIA_GAME_HEBREW.mp3': 8.492942333221436, 'VOICE_FEEDBACK_BAD_HEBREW.mp3': 6.340404748916626, 'VOICE_GAME_COMPLETED_HEBREW.mp3': 4.082958459854126, 'VOICE_SESSION_EMPHASES_HEBREW.mp3': 4.129499912261963, 'VOICE_VERIFY_PATIENT_HEBREW.mp3': 6.386006832122803, 'VOICE_CARD_MISMATCH_N_HEBREW.mp3': 1.9280297756195068, 'VOICE_CARD_MATCH_2_HEBREW.mp3': 2.7187535762786865, 'VOICE_BEFORE_COGNISHINE_HEBREW.mp3': 7.381462812423706, 'VOICE_MOVING_FORWARDS_HEBREW.mp3': 6.97395396232605, 'VOICE_FEEDBACK_HEBREW.mp3': 5.14737606048584}"
   ]
  },
  {
   "cell_type": "code",
   "execution_count": null,
   "metadata": {},
   "outputs": [],
   "source": [
    "def combine_dicts(dict_ids, dict_timestamps):\n",
    "        combined_dict = {}\n",
    "        for name in dict_ids:\n",
    "            combined_dict[name] = {\n",
    "                'buffer_id': dict_ids[name],\n",
    "                'timestamp': dict_timestamps[name]\n",
    "            }\n",
    "\n",
    "        return combined_dict\n",
    "\n",
    "def reverse_dict(original_dict):\n",
    "        reversed_dict = {value: key for key, value in original_dict.items()}\n",
    "        return reversed_dict\n",
    "\n",
    "def strip_prefix_suffix_from_keys(orig_dict, prefix):\n",
    "        prefix_len = len(prefix)\n",
    "        # Create a new dictionary with stripped keys\n",
    "        new_dict = {}\n",
    "        for key, value in orig_dict.items():\n",
    "            if key.startswith(prefix):\n",
    "                key = key[prefix_len:]\n",
    "            if key.endswith(prefix):\n",
    "                key = key[:-prefix_len]\n",
    "            new_dict[key] = value\n",
    "        return new_dict\n",
    "    "
   ]
  },
  {
   "cell_type": "code",
   "execution_count": null,
   "metadata": {},
   "outputs": [],
   "source": [
    "buffer_dict = reverse_dict(BUFFER_IDS)\n",
    "buffer_dict = strip_prefix_suffix_from_keys(orig_dict = buffer_dict,\n",
    "                                                prefix = 'dat:tts_audio/')\n",
    "buffer_dict = strip_prefix_suffix_from_keys(orig_dict = buffer_dict,\n",
    "                                                    prefix = '.mp3')\n",
    "\n",
    "print(f'buffer dict: {buffer_dict}')"
   ]
  },
  {
   "cell_type": "code",
   "execution_count": null,
   "metadata": {},
   "outputs": [],
   "source": []
  },
  {
   "cell_type": "code",
   "execution_count": null,
   "metadata": {},
   "outputs": [],
   "source": []
  },
  {
   "cell_type": "code",
   "execution_count": 1,
   "metadata": {},
   "outputs": [],
   "source": [
    "import os\n",
    "from google.cloud import texttospeech\n",
    "os.environ['GOOGLE_APPLICATION_CREDENTIALS'] = 'client_service_key_3.json'\n",
    "text_to_speech_client = texttospeech.TextToSpeechClient()\n"
   ]
  },
  {
   "cell_type": "code",
   "execution_count": 2,
   "metadata": {},
   "outputs": [],
   "source": [
    "def text_to_speech(text,\n",
    "                    language='en-GB',\n",
    "                    name='en-GB-Neural2-B',\n",
    "                    audio_type='mp3',\n",
    "                    leds=True):\n",
    "        \"\"\"\n",
    "        INPUTS:\n",
    "                text - A text for the robot to speak\n",
    "\n",
    "        OUTPUTS:\n",
    "                This function doesn't return any outputs, it speaks 'text'\n",
    "        \"\"\"\n",
    "\n",
    "        synthesized_input = texttospeech.SynthesisInput(text=text)\n",
    "        voice = texttospeech.VoiceSelectionParams(\n",
    "            language_code=language,\n",
    "            name=name,\n",
    "            ssml_gender=texttospeech.SsmlVoiceGender.MALE)\n",
    "        audio_config = texttospeech.AudioConfig(\n",
    "                                audio_encoding=texttospeech.AudioEncoding.MP3,\n",
    "                                speaking_rate = 0.9\n",
    "                                )\n",
    "        response = text_to_speech_client.synthesize_speech(\n",
    "                                                    input=synthesized_input,\n",
    "                                                    voice=voice,\n",
    "                                                    audio_config=audio_config\n",
    "                                                    )\n",
    "        \n",
    "        print(f'response: {response}')\n",
    "\n",
    "        with open(f'gary_response.{audio_type}', 'wb') as gary_response:\n",
    "            gary_response.write(response.audio_content)\n"
   ]
  },
  {
   "cell_type": "code",
   "execution_count": 3,
   "metadata": {},
   "outputs": [
    {
     "name": "stdout",
     "output_type": "stream",
     "text": [
      "response: audio_content: \"\\377\\363\\204\\304\\000\\000\\000\\000\\000\\000\\000\\000\\000\\000\\000\\000\\000\\000\\000\\000\\000\\000\\000\\000\\000\\000\\000\\000\\000\\000\\000\\000\\000\\000\\000\\000\\000\\000\\000\\000\\000\\000\\000\\000\\000\\000\\000\\000\\000\\000\\000\\000\\000\\000\\000\\000\\000\\000\\000\\000\\000\\000\\000\\000\\000\\000\\000\\000\\000\\000\\000\\000\\000\\000\\000\\000\\000\\000\\000\\000\\000\\000\\000\\000\\000\\000\\000\\000\\000\\000\\000\\000\\000\\000\\000\\000\\000\\000\\000\\000\\000\\000\\000\\000\\000\\000\\000\\000\\000\\000\\000\\000\\000\\000\\000\\000\\000\\000\\000\\000\\000\\000\\000\\000\\000\\000\\000\\000\\000\\000\\000\\000\\000\\000\\000\\000\\000\\000\\000\\000\\000\\000\\000\\000\\000\\000\\000\\000\\000\\000\\000\\000\\000\\000\\000\\000\\000\\000\\000\\000\\000\\000\\000\\000\\000\\000\\000\\000\\000\\000\\000\\000\\000\\000\\000\\000\\000\\000\\000\\000\\000\\000\\000\\000\\000\\000\\000\\000\\000\\000\\000\\000\\377\\363\\204\\304\\000(\\031q\\314\\000\\313\\014\\225=\\032N\\225\\326\\225h>_\\362\\323\\227,\\274h\\000H\\205\\210\\327\\035\\310\\301 H\\022\\000\\370&\\004\\300\\230\\023\\003\\340\\334G30Xpx`$\\t\\002@\\220#\\211ffk\\327\\276\\275y\\301\\201\\200\\000\\000\\000\\010 \\205\\335\\236L\\2312aa\\004\\010DDD&y2d\\311\\223\\275\\317\\373D\\030\\202v\\037\\377\\340\\000\\000\\037kxx`\\217\\236\\177\\216\\037\\375\\017\\377\\220?\\376O\\370\\002?\\344\\371\\303\\004\\177\\377\\207\\207\\217\\377\\370\\000\\001\\341\\377\\376\\000\\000\\000\\000\\377\\216\\036\\030\\000\\000\\357\\017\\017\\017\\017\\014p\\000\\000\\000xxy\\341\\200\\000\\000\\000\\n0\\325G\\266\\000\\202\\202\\232\\243\\211\\204\\002\\275S\\325\\325e\\220\\377\\363\\204\\304\\022$\\331\\361\\324\\000\\323\\014\\231\\023z\\370L\\307\\006K\\200\\321\\240\\035\\\"\\034\\232\\243d\\370\\355\\323\\003\\352\\023\\237>?\\227\\027j\\345\\362\\275\\233\\235]\\247\\352\\372]K\\362\\371\\272_\\270\\\"\\342d\\271\\271\\255?\\247\\322\\323\\250\\271\\327\\253mV\\245\\247-\\253\\032\\257\\354\\371\\311_\\247g\\217\\023\\347\\035L\\307Xc\\217c\\230\\014\\347\\006A\\341A\\224\\263$\\026M\\025g\\\"\\311CM\\273Lq\\3471\\355\\367\\207\\025\\317\\312\\364\\231\\265\\364]\\370L\\333\\274\\353\\236\\373=\\347X\\306\\372\\341U?{\\014PAQ(\\236<\\000\\267\\251?\\010Y\\215\\201\\355fuZ\\263I\\005\\303\\002\\301\\200\\250.x\\031\\007l1\\021a\\223\\243\\202\\222\\352\\0226J\\037\\210\\261\\n\\377\\363\\204\\3041(\\022)\\314\\000\\322F\\231\\350 l\\204\\353\\214\\257$\\032h\\252l\\tpA\\005\\201\\003!\\000\\307\\005\\007\\014\\035\\006v\\010b\\201:Q\\303A\\305\\004\\210\\342\\201A\\331\\\"\\033\\0021\\341&8h\\354\\225\\014P-\\341X;G4Px\\363=\\023Mc\\331\\234\\\"\\26434\\316\\211\\252Ffp\\325hn\\342z\\271\\210fg\\rV\\204\\264\\244\\365=\\222\\314\\214\\242\\3671\\251J\\353vi\\255\\224^\\326jU\\2259F\\215P\\344fG\\300\\020\\304Tnj\\256\\337\\272\\215\\302\\034xY\\333nv\\264\\371\\220\\254\\033\\335$\\n\\004\\202B\\344\\207\\207\\211\\034Zv[Y\\365\\223\\3637\\340\\244m\\257\\216\\003\\305\\231\\317\\320\\300\\203\\276\\330\\264&\\323\\273]\\377\\363\\204\\304C&)\\351\\310\\000\\323\\014\\231 M\\367p\\201\\230\\371\\006!\\226\\235\\334e\\223\\272\\371\\004\\326\\321\\r\\021\\314\\214\\306\\263\\357~\\275\\246\\220\\202|\\004~\\0023\\216\\036\\036\\271\\360\\034\\350\\006\\027\\300\\300\\367\\364=k\\0004 \\207G\\177C\\371\\262\\360\\035,\\003?3\\'nxg\\370\\007\\350\\001\\225\\346p\\177\\350>\\314I\\201\\232\\314z4z\\230\\365N\\302\\251\\344\\301\\310@\\343H\\2104\\034\\025-\\022Q\\261\\246\\310\\301\\345t\\315\\363\\206\\243\\257\\254\\354\\206\\232\\000)\\013G\\003\\314\\3139\\020\\203\\351a\\036c\\302:\\t\\341;U\\'\\224\\210\\306H\\013\\263\\2758\\342\\303\\271\\0350\\252\\324P\\332\\246S\\271\\273[\\356,\\n\\310\\n\\264<\\3374\\320\\364>c\\235>\\377\\363\\204\\304]=\\234)\\314\\000\\343\\322\\335\\327\\2715V\\354\\262Gs\\313\\366w7\\210\\366\\245F9?4\\341\\330\\362$1\\0020\\006lF\\217d\\215\\260@\\301:G\\005\\000C/\\211tg\\205\\000\\201\\\"\\244oi\\270/>\\367\\336&\\030A\\253\\333\\024\\241\\205\\020\\314`P\\302\\002\\005*[\\324Qq\\030\\256\\010\\020\\020\\030VrFI\\004\\004\\212)\\220R\\010\\010\\304\\350\\3470\\270\\254\\201\\203\\250\\305h\\323Fl\\302\\006.\\n)\\227\\362m\\266\\271\\031:A\\266\\304`\\234\\257a\\010\\302\\t\\020\\022`\\255\\263e\\004\\231\\260e\\001% @HH\\304\\252\\311\\035mH\\262\\265;\\215\\2371L\\n\\\"\\010U\\032\\217\\264\\'\\325\\211\\273\\362\\317\\275\\033\\206\\322\\374\\233\\223\\377\\363\\204\\304\\031+)\\336$\\000\\353\\336\\2300\\023\\307\\201#\\0231\\353?\\211\\350\\t\\345B\\022\\204\\206\\255\\024\\255Z4\\022$\\275\\363\\3661\\366,la\\017\\003\\031\\'\\023\\300\\006\\315\\344\\0039\\270\\021\\303\\025\\006\\255\\002\\002\\022+\\341\\206\\217\\204A\\007\\271\\026,`\\036\\003\\361?\\001\\216\\023\\322\\336!\\207\\002,\\235\\245\\311A,\\210\\306\\250S\\271\\251\\024\\021 +\\0367(\\030\\341<\\210\\361\\345U\\232\\3055\\275R\\236\\231\\177\\210\\220\\344\\231YP#\\211\\224\\010\\205\\304\\022\\207\\004\\t\\332\\344\\240L\\010\\t\\304b\\016\\375\\226?\\273\\213\\372\\275\\204\\022\\317\\352\\303\\374\\2429uD\\363yX\\\\n^\\341\\276\\016\\245\\353\\320[+\\205! \\273\\213\\002\\252H\\246\\372\\247\\341k\\001\\377\\363\\204\\304\\037.\\242zT\\000\\336\\036\\270\\206DQB6\\265\\025\\276 \\347\\262H\\323\\\\\\212\\260\\307n;\\027\\231\\221;\\361\\222\\377\\215\\036\\231\\023\\024Q\\024\\000\\nV\\225\\356\\321\\304@U\\215~(\\332V\\267\\027\\222!\\372\\205\\243z%1\\324\\0220Q\\353\\025\\360s\\261\\0275\\332\\235N\\226nz\\361\\205gK\\205e\\\"Y\\345\\031\\227p\\233\\023\\212\\210o\\362\\337;\\004[D\\303\\313\\336\\360\\361\\247\\376v\\367\\n@y\\2468\\360)\\274\\346\\231\\336o\\343\\333[\\313<7\\373\\371\\217L|f\\333\\3148\\367\\002\\031\\0208\\201\\360\\361J\\006,\\377\\365x\\203\\227\\207\\373\\350\\263\\377\\252\\212\\r\\0063S\\017\\345\\232I\\024n\\206\\374\\242\\211\\334\\213?\\257\\245\\204\\2620{\\377\\363\\204\\304\\027(zJ|\\000\\303\\322\\270\\237\\203\\220J;=\\3256M\\310\\223f8\\037\\345\\260\\203\\277\\036\\2657D\\022\\303)N\\r\\362\\225\\270\\301B\\320\\323\\270\\232J\\2228\\037\\233\\373\\311scb%\\206r9\\230 m\\206\\302\\203`\\020J(:\\210\\027&3\\001\\\\\\205f\\220f\\033\\251\\254\\302\\004\\007[\\000\\231pt}\\315yN\\346\\364t\\242scS\\235Z\\314N\\375O} \\206\\256O\\324$@I\\007\\240H.@=8e\\243\\234jPFN z\\177\\361d\\244\\232\\317\\000\\345\\307\\342u\\325^\\257\\325\\027\\304\\206.\\024\\002x.\\372\\231\\322Kd\\360\\323\\370\\344\\277QF\\302\\333\\262\\367\\3356\\225\\003\\234\\277\\227B\\232Jf9\\022duc\\377\\363\\204\\304(1\\032\\366\\210\\000\\306\\030\\270\\264\\357\\372\\201\\265\\307\\246\\334\\271G\\222\\361i\\253\\244*F\\200X\\342\\256\\243\\013s\\231}\\315\\027a\\330q#n\\013\\274\\356\\3174\\266\\356\\230-a&`2@\\222\\006\\204\\002\\311u\\343\\272\\223\\037\\216\\216\\250A\\211\\265\\325`\\355\\362b\\270\\215\\315N\\264\\224}1\\254e\\353\\305\\177\\376\\232\\274\\315\\241\\255\\333\\253\\231\\263Z\\315\\352\\177\\225~\\353\\0318-\\272\\226&\\361z\\314o\\\\\\370m;\\356s\\320\\257\\313\\301W2\\354}Zf\\333]\\316\\354\\336\\236\\237\\203\\0166\\261\\344<\\361\\220\\200h20agM\\234(|\\270\\200\\341\\226Y\\250Y\\nPX\\203e,@8\\001C\\205E\\024|\\307\\223&!\\001EB\\242\\314\\377\\363\\204\\304\\026+\\303b\\230\\000\\326\\n\\274\\250\\361\\010\\010\\232\\3652b\\320\\246(\\320\\305\\202\\243\\242!,T\\307Lx\\317%\\254\\342\\032\\311\\343Hy\\247f\\037\\177\\034\\'-\\215+\\205,W\\362\\027\\3165\\025\\334\\027R\\374\\334q\\263\\316[\\247\\201\\257\\300q\\273\\023\\221\\310\\2254?z\\237t\\225\\253}\\\\\\377<\\304\\220UE\\304\\203\\341\\361b%l\\327\\243?b\\027\\243\\267\\225\\310b\\210P\\207\\220@@0\\352\\001\\204\\304\\325IY\\314 \\242\\346\\017\\025\\234\\211tKJUFC\\325\\036\\306\\354\\211\\366\\377\\377\\331Q\\252\\342\\2118\\0061\\025P\\016@\\232\\032\\313S\\331\\353\\207\\263\\214\\212\\216:`\\325\\252(\\373\\201\\224\\224 \\227\\300hO\\023\\207\\213\\000*\\2251\\377\\363\\204\\304\\032*\\363j\\234\\000\\326J\\274\\216\\220:\\020\\322\\001\\262\\r \\376\\271\\317\\240uok\\322\\330\\020>Y\\rC\\311x\\327\\334w\\264\\031\\002\\020E\\223\\250F!\\022\\315\\212I\\017>.\\205\\351Lq\\323\\221\\362\\\\\\360\\300\\364\\327\\241\\247\\34631\\013k\\016\\305\\025\\252\\362\\353U\\260\\265S\\231\\\\\\267n\\345\\027s\\013\\020t\\250\\323k.\\217\\262\\265Y[n\\336V\\025a \\350|& \\010qc\\010\\221\\212\\342\\304c\\224\\352\\201\\021\\247r\\230\\210qRT\\216\\336\\237\\377\\377\\377\\353%L4\\302b\\n&\\\"\\201\\t\\032\\366\\302_\\373Rfm{\\214X\\3200\\227\\306\\3343\\n \\342\\004v\\324\\014\\300\\267\\021\\316\\022B\\364\\203\\002\\230\\244#k\\025\\204\\362\\377\\363\\204\\304!\\'\\3722\\234\\000\\326J\\270\\255\\242\\373\\226\\301\\334\\2274\\322\\022X\\374\\342\\311\\003\\n<|\\271%\\215\\025\\202\\3473\\230\\341w\\226\\363\\223\\003\\307Y\\3147\\024\\253\\021\\214\\312%\\366\\357J]\\nX\\0060\\304\\332CdX\\315\\312\\033\\224CS\\\"\\202\\300\\010\\024\\243\\216*\\030$\\200 @\\202\\3010pa\\022\\000\\342j\\243\\005\\013;\\'\\377\\375\\377\\272\\231\\022\\310\\252%B\\016\\027\\034!,\\360\\230H\\020\\022\\003\\300\\225T\\035_\\377\\362\\224>|\\251\\020\\361\\003\\353`\\230Iw;\\223\\202QNL\\021\\013uF\\013@\\351\\020S\\0170\\302\\023(9L\\306Mi\\270\\200\\232\\256gr\\202\\202\\013\\020\\312&,F\\236\\376\\3166Qt\\262\\230K\\372\\334&\\377\\363\\204\\3044&\\312\\306\\224\\000\\336\\020\\270\\240ll\\301\\021n\\376\\023\\331k\\013\\223\\337\\205xi\\336\\207\\245T\\231\\334\\265\\254\\352\\336\\373\\037[\\017\\001Z\\304p\\007\\000\\264X7\\020\\016y\\014\\244\\213\\226\\037CW\\177\\377\\365\\360\\227r\\365\\177\\r\\306`\\262\\220C\\323\\333]t+S\\225Z \\255\\215\\227\\021F60~\\367\\365\\303LqWP\\244\\013\\233\\376\\305\\322YWT\\241\\313#\\263\\377\\303\\364*h\\023\\234\\217\\035\\344\\260\\355$2d\\372\\236\\341\\266r_\\006 #\\347\\204\\312\\010\\353a\\214\\255s\\313k6P\\013\\332v\\022\\264\\310\\013UH\\363Q\\367\\347\\017\\2517{\\367OM\\373\\316\\327\\353\\365M\\373\\316\\233Z\\326\\025\\262\\336\\371\\337\\302\\305\\234y\\251\\330\\377\\363\\204\\304K$\\353f\\224\\000\\326\\016\\274j\\265$8\\010\\260\\3710p\\016\\216\\025\\211\\204a+~\\224\\366\\334\\304en\\355\\315j\\275\\020\\362,\\312s\\332k1\\350\\252\\207\\263\\032\\265[\\377\\3753\\352\\367\\267\\363\\031]\\217=\\320\\303\\'\\263\\251\\363\\022\\355W\\220\\n\\201\\n\\205\\215\\234\\377\\362p\\355\\201l=+\\274\\r\\205\\026\\236\\002\\030\\0340\\241\\207\\004\\211\\005\\260\\001@D1K\\362\\331\\227\\216\\023\\031K\\3657l\\014\\251\\023\\000\\000\\030\\nV\\266\\2225@\\021d\\212\\207&\\335\\007\\352\\367i%\\331o<q\\346\\177\\237y\\374\\307\\014y\\216\\365\\236<\\355|\\376\\237\\353\\337\\372J\\367j\\337\\230\\244\\251,\\023\\301\\340A#8\\227\\231\\007\\201\\3062\\r\\0161\\232w\\377\\377\\363\\204\\304j&\\313j\\230\\000\\336\\032\\274\\377\\377C\\333\\376\\314\\252V\\255\\231>\\252\\014\\252z\\227\\253\\276\\351\\275O\\263U\\327Ui)$\\321Mi\\273\\244d\\314\\266j\\234\\372\\334\\300\\354\\014\\034PQ4\\177\\364\\252~sz\\214\\243\\002\\032xGA\\016\\350\\266RE\\316>y\\260\\371\\001\\347_`\\223\\224\\314\\265a\\311\\225+X%%\\242i(\\356\\232\\305\\010IR\\324\\230\\336\\266\\224-\\221\\2658f\\')\\221U\\257=Kn\\265\\353\\265\\362\\263\\335X\\326\\031^\\312\\245\\215^\\233\\207\\356\\306\\023\\242\\225\\330\\212<\\224\\026c\\020-\\270\\303\\261\\036\\212K\\250B\\366$\\203\\000\\023\\320\\233\\005\\2404\\0148\\226\\021\\315\\313\\257\\245\\325\\333\\377\\377\\325m\\r\\016\\257\\324\\253T\\377\\363\\204\\304\\201\\'\\333\\032\\244\\000\\316\\032\\274\\253\\273\\265\\256\\252\\252\\355\\333\\355\\333\\375\\322ZgX\\334\\250E\\355SF\\237/]\\247\\216\\337\\377\\306)\\025\\303q\\262m\\242\\312(5\\003|\\370\\253\\320\\021\\316\\333W\\005\\270m\\234l\\321\\2604\\216\\\"\\235\\301\\013}\\245!\\212\\221.\\2529\\010P\\217E\\243I\\0211\\226\\372\\005k\\221\\034c\\027\\345\\323v,\\352\\357-M\\346f\\312\\277\\207\\005\\373|%\\\"\\221\\265^i\\210h\\261\\212P\\213\\234\\n\\003\\361&\\217:\\t\\t\\246y\\217P\\244\\023\\303\\000Z\\330\\023\\205\\013\\2463\\354\\345\\322\\2231\\205lU\\257w\\373\\327\\3774(\\320,\\324\\366\\237\\366-%\\202\\00008\\034YD\\320\\360\\342\\203\\302\\260\\345\\351\\247\\244%\\022\\377\\363\\204\\304\\224$\\001r\\250\\000\\316\\036\\224,\\212d\\224@)\\035\\0342Q-\\267\\034(v\\006\\223\\010\\030\\014qH\\300U\\0253\\374\\363\\227\\226\\277\\210\\307,kb2\\001\\202\\237\\342\\242\\262\\240H\\352\\253,\\311C\\321?\\224\\333\\231;\\307\\272\\375Xk(I\\033\\3359%\\332#\\305\\023\\242\\300\\207\\000%\\016uY\\330#M*\\342!PT\\243\\320\\301O(\\222aB\\016UH~\\200\\324b\\226\\020c\\027\\243HZP\\225K4xp\\250\\266\\272\\363Hw\\350\\273&\\267\\262\\322\\242\\317\\002\\345\\2075b\\366\\177\\230\\2146,f\\363\\005\\336\\037B\\227\\326 \\n\\321*\\317\\004B\\211\\306\\215\\021e,  z\\312\\305\\036dzI9Rr\\277\\223\\266V\\364\\266\\377\\363\\204\\304\\267%iz\\240\\000\\326\\236\\224$\\312\\344M\\2215\\232\\342F\\233:\\331\\343,YH_v\\234\\272z\\362\\331}\\014\\243T\\261\\232>\\323J\\347\\344q\\247b\\nH\\3657\\031\\031}\\022\\330\\276R\\010\\2744\\363Edo\\273\\260\\344\\302\\231*\\333HR\\317\\020\\021\\036\\224\\325C\\327\\262d\\275\\211\\362\\334%ou\\333\\327\\001\\221\\177\\377\\376\\303\\242\\301A(l\\024\\001[\\352\\253\\377\\321<\\247\\240\\271\\3415\\277\\353\\270\\253\\331\\177\\342U\\022G\\014TT\\005\\345\\336_&JH\\031\\230\\030\\271\\227\\354s\\t\\217N0\\006\\311\\222$\\233\\247(f\\314\\276&\\340\\277\\315\\352`\\267\\'%\\224\\250\\334\\343@X\\257\\301\\272\\246\\242\\232Db\\003h\\271)\\336\\330\\203\\347\\377\\363\\204\\304\\324%An\\244\\000\\3260\\224\\030\\236\\213\\361\\345\\226\\273\\357\\355\\267j\\005\\221(\\nu\\240\\025d$Z\\356th\\331\\365\\003\\254\\326\\337F\\265\\0172\\207\\031\\322P\\362\\251\\200\\302i\\342\\022\\027\\245\\2467!\\244\\277\\322\\202\\367\\244\\2148\\330`+<\\224\\353\\352\\377\\377\\376\\337\\377\\353\\245\\021g\\016\\241\\220\\256\\252r\\273=N\\315{;Pk9X\\340\\010r-m\\327\\377V\\253,\\214\\252\\313\\005@n\\306\\177\\377\\365|8e1E:\\217fuAxn\\207\\317t\\375A/\\274\\006\\032\\240\\203\\361\\301@SD\\2359\\323\\023\\016 2\\264CM4&\\030\\234`+\\365]\\315\\301.\\\"\\247v\\363`1\\'\\361s>K\\235\\267G\\342\\362\\245\\022\\3526\\377\\363\\204\\304\\362/C\\346\\224\\000\\326\\004\\335\\221R\\246k+n\\257lY\\366\\206\\256\\347\\n\\213\\374\\3740\\360Di\\013\\342\\202\\366\\351\\220\\004\\275\\241\\332\\357\\3149\\204\\336\\023R\\332X\\254\\324Yh\\261\\306\\264\\217!A\\215\\001\\255<\\262&\\371\\273\\253\\n(\\273OKk\\016\\326\\317\\274\\356\\377\\377\\377\\377\\247\\276\\210\\216]@\\250\\244\\346\\344\\334\\244\\224@\\004\\302\\004@[R2\\t\\265m\\177\\243~\\255jX\\245\\261\\312\\355\\257\\377\\353\\271a^\\340Gj\\035\\21498\\\\\\313kj\\352Qg\\275\\310O\\243\\313\\r\\225\\241\\341U\\334\\360\\240\\r\\310 X\\205\\342\\035\\000\\003\\005\\332\\315\\305\\231MH\\343u\\200\\301\\313}\\224\\260I\\207\\',\\366v\\036\\220\\024\\204E8T\\324\\377\\363\\204\\304\\350,\\223\\326\\220\\000\\336\\004\\334\\0258T\\3163\\3655\\026\\245\\231\\214\\313uO\\025\\302z\\226-\\004\\262U*GT\\254P\\'\\206A\\025\\224\\320v\\357u\\274\\2458\\312\\263\\216\\316\\274N\\363\\224\\303Z\\342k3\\'\\362z;I\\021\\261\\022\\236\\312\\265\\2343\\307_\\377\\377\\216\\245\\376\\251U(\\244X\\303\\373\\266\\207-\\317lT.\\240\\330*c\\002\\340\\330\\222<\\343\\245\\225\\006\\307\\230Q\\010\\241\\244\\235O\\251\\265\\232\\275\\277\\357\\255]]\\351\\251\\313VA\\323GT\\323\\217\\033)\\2472\\254\\3045\\224\\312\\234q\\272\\245\\356E\\22168\\336U\\007\\'_\\361\\010H\\301\\203\\323\\370\\021\\201BP\\020H\\241 c\\\\\\261\\253\\014a\\200\\325\\025\\n\\201L>\\014h\\377\\363\\204\\304\\3501\\214\\006\\204\\000\\336\\016\\335\\355d\\300 \\322\\365\\006\\003_\\260\\250(\\314\\000\\360\\333\\303\\nSTg\\'\\t\\203\\241\\254\\271+\\313\\345ZvI\\026\\222Klr5~\\255\\271uZ[t\\265\\251\\345\\225c\\210\\362\\2303m\\242\\203F\\247\\356\\\\\\357\\325\\271Z\\233\\270S]\\263V\\3244\\3416y\\347\\255\\376\\201\\256V\\306S;MK\\332k\\370\\343\\276\\377\\377\\377\\375l\\327\\355\\361~\\310\\323\\002\\021\\325t\\327\\027\\375\\354\\321w\\300\\371\\016\\240\\016\\021\\200D!\\240\\365do\\311>6\\020}\\252\\033\\362\\265\\337\\377\\034\\257\\360\\272\\25535\\377\\367z\\307+X\\373\\206\\020\\224{B\\212\\313:\\240\\260|\\303C\\321\\241CzO\\217|\\3121H\\010.\\024\\013\\377\\363\\204\\304\\3243[\\316h\\000\\346P\\335\\024\\315\\362y?Q\\224\\301#\\003\\034\\236I\\265\\3476\\203\\231\\014pb!Q\\224\\205\\201\\005` \\025\\'\\210@&0(\\204\\001Z \\\\0\\004\\014\\230T\\220qN\\000\\203\\230@\\211\\036c\\207\\252p\\304-\\321\\024\\2209uF\\331+5ob\\025\\036\\366]/\\234\\201(kQR\\323\\312\\365\\030\\242\\214\\311\\'h\\235%?r\\232bw\\nJYNwr\\261g\\033\\330gv#*\\177\\255\\332\\263g\\357\\347\\314+Y\\302\\266\\367\\276i\\377s\\351\\372O\\355\\361U\\325\\313]\\241\\302\\322\\322\\336\\277\\252\\332\\3044\\264\\243:P\\261&\\233\\333_\\353R\\302\\307D\\254]\\177\\363\\377\\377\\377\\361\\307\\355\\375\\375\\302\\335e\\007\\377\\363\\204\\304\\2713\\333\\322T\\000\\346\\220\\334\\334\\003a\\031\\350\\035\\024\\021\\232N\\241Tse\\211\\211\\036\\215/\\025M\\275\\025 \\003\\312\\200a\\206B\\341\\300\\304\\371\\207@\\271\\205\\206\\001\\244@\\221\\201\\240\\211\\204A\\320\\030\\3730\\320\\r\\n\\207gl\\251\\226:\\005fmF\\227\\244\\304\\215\\0014n\\005\\340/\\304A\\301\\220\\304\\243n$\\000\\331 \\251\\330H\\205\\260\\321)\\302\\307\\3560Qi$\\326\\262\\256SN\\223MY\\325\\321\\255rK)\\204)Bi\\211\\300s\\023F\\324\\303\\n[N\\024\\311\\271\\264\\032\\025>,\\321;\\270\\302\\341\\304Fk\\27144\\271\\277\\377\\377\\367y5\\000\\314\\022\\010\\2642\\261W\\230kt\\255\\006v-1\\200&0`\\0160\\35526\\377\\363\\204\\304\\234$qFX\\000\\356\\222p\\270C1\\000\\2043b\\3206H\\2201hY4\\314g2\\020\\2422\\360\\3305\\200\\2260|\\0160\\00062\\250\\0300\\014(\\002\\000\\306Q\\021\\004\\3019\\205\\202\\000\\350f\\241\\200\\356\\\"\\301\\231A\\310\\026\\nU\\244\\232\\250\\306_\\245\\201\\2260\\372G\\342U\\035\\177%\\360%6r\\315\\373\\352\\367G`7\\036u\\303\\2638\\262\\035\\326f\\232\\354\\r\\211\\257x\\362r9\\257\\242\\224C\\260b\\2247\\023\\000\\203\\270\\262\\225\\353\\201\\020\\206 F\\036\\221\\020\\355\\214kRU\\265z\\365=\\253\\272\\313k\\006\\334T\\216dM\\306{/\\335\\\\\\243*\\335c\\034\\362(\\267\\342\\245{\\236V\\246\\271k\\204\\036#\\0316\\2248\\275.\\377\\363\\204\\304\\275=<\\\"P\\000\\356\\020\\335\\355c\\213\\346\\342\\210vy\\370\\347JH\\237\\257\\210\\323\\206i\\232\\216\\273\\3102\\254\\250\\t\\307\\250p\\222<\\334\\253\\030\\203\\204\\201\\244DAT\\031C.\\031\\340[\\\"Q\\005\\330Pq@v*\\010(R\\024\\305U\\274\\306@\\224\\301\\244\\220\\313\\3054\\310`\\264\\304R\\270\\353\\344\\\\\\303\\243\\254\\342\\026\\214\\305\\340\\274\\301\\342\\030\\301\\261T\\024.\\2302\\023\\030x?\\231(\\'\\205\\016c\\025\\006\\023\\t\\301\\323\\016A3XP \\n\\225+R\\356\\024\\202\\360\\303\\305 \\267\\003\\312*Me3.\\324\\354\\374\\2561O\\022\\234\\275#\\2635+\\2258,\\355\\3731\\002@a\\220\\331\\326[O\\032-\\333X\\3508\\246\\205@\\320\\006\\377\\363\\204\\304{:\\303\\332`\\000\\356T\\335\\323\\301L*\\001Y\\200R*\\240\\022\\220pk\\0308D\\000\\010\\203\\001@\\301\\021\\335\\177\\312+\\341C\\017\\331\\325\\275w\\374\\372\\236\\354\\206\\3175\\no3Z6\\215\\335lXf/\\016\\027*\\350c\\252\\263\\253\\241\\214\\354as\\327[\\363\\325>\\211w\\255\\036v\\254{\\314\\272\\255_\\364\\351\\324\\3111,\\252\\220\\363vuF&0\\303\\315B\\031\\031:\\223\\020\\255\\357\\365&VI\\310E\\032\\005Q\\330\\305!9\\207\\216\\020\\003KpT-0l\\3732\\000\\02710\\2228h\\2120D\\0300\\200\\202kf\\010\\005\\206\\036\\000!`8\\300`\\200\\302\\340$`\\0240\\350d\\005\\036\\306\\342\\201\\360\\200\\016\\n[i\\\"+\\377\\363\\204\\304C3\\324.t\\000\\356\\204\\335\\264&\\267\\017@0\\271m\\252I\\271\\356K\\354v\\245H\\306\\245q*\\\\\\241\\023\\020\\343\\354\\363\\270\\217p\\240\\202\\352\\246PP\\341\\203\\002\\257\\231\\363ai\\354%1\\330\\310@4\\2120\\345LP\\205\\320\\311\\035\\204xi\\352T\\201i\\316\\205`\\342\\r\\350`\\'5\\343~\\351\\\\\\211u\\232M\\347_2\\035z\\323\\377\\375\\377\\371t%\\2455\\216\\0109\\364fO\\377\\377\\311;\\234\\372\\177fD\\275t\\363\\373\\321e\\271\\374\\347\\016ws\\202!\\031\\233wC\\225N\\357\\377<\\352x\\274\\352~VQ\\212D\\353h\\301\\310\\343\\013\\202\\002\\243\\263\\014\\213\\220X\\320\\241\\2001\\260\\301L\\303\\215\\007R\\340h<\\241\\004\\202$\\274\\377\\363\\204\\304&1\\013.\\200\\000\\346\\242\\274\\n\\0101\\200\\336s2\\014\\33258E\\217e\\360\\217\\346\\024\\nM-\\330\\032\\017j\\025$\\274\\216S\\\\\\235\\273+\\275\\030\\316\\206[3?-\\234\\247\\216\\311&\\240\\'\\005\\230\\255\\360@\\264\\0305\\003B\\203\\235B@\\013\\201\\373N&j\\202D\\247\\030\\032<H\\210P$\\213\\254\\260Ku\\346D\\266P\\213\\303$\\026Z\\027\\320IAX_7Q09\\306$\\212g\\32174\\262~\\273o_\\377\\377\\366j\\315\\226`\\324\\024\\267R\\017\\377\\365/\\253\\375\\331kE\\253N\\375n\\2053E\\233\\271\\245?\\311-\\206\\304\\000\\271\\366\\263\\377\\224Z\\214U\\203\\223\\264\\301\\305\\251L\\244X\\210\\200T\\254\\211\\021\\036\\215\\300\\2348\\377\\363\\204\\304\\024)\\351r\\210\\000\\336p\\224\\004\\320R\\201j\\244\\300FB\\002\\361\\010\\345\\224\\025F\\215\\241\\316\\020\\266\\301\\347%\\263\\214\\013\\370\\266a#\\264\\204\\375\\207\\036\\t\\024A\\305\\273\\033\\3362\\352\\226\\360\\263\\270\\235\\352\\361n\\3014\\226\\035\\330\\333rgb:\\211 `\\205\\255\\207]f\\270\\335\\335\\207\\321\\2138\\005\\361t\\331\\3508IP_\\032\\212\\330\\363J\\321\\3659\\000\\305z\\323\\031\\263C\\357=\\251\\352|\\204\\340\\321\\255K\\377\\375\\252\\004\\304%\\2126\\377\\377\\326&.r\\272\\242\\302\\250R\\177e\\005\\212\\210\\204\\240\\352\\236\\357\\240\\202\\036\\026\\223h\\242\\254\\354\\025\\2333\\020\\002\\233\\226U-\\036\\021%\\017\\010\\'\\013\\203\\220\\325\\231p\\034\\331\\023\\323+\\001\\312\\007\\377\\363\\204\\304\\037&\\021\\212\\214\\000\\3360\\224OYJ\\036\\311\\310\\017\\000>\\246\\3326\\304A\\027\\262\\252/{k\\336\\364\\216\\366\\022{\\262.\\312\\260\\240\\302\\357\\362c\\346-jO\\214\\'\\221X\\r\\320\\014\\262\\366\\n\\235XR\\321\\354Q\\254]\\250\\r\\363*\\216T\\213\\214\\265y\\0065\\203,\\307FP\\230\\021\\244Di\\250\\010`\\220G,g\\215\\216\\363\\\\\\2474Q\\307\\353O\\377\\376\\224\\232\\377\\375\\004\\024\\273\\031P\\242\\026\\016\\002\\001\\217\\241\\266\\010jW\\376\\271*\\252H\\002\\020Ft\\253\\0021\\327\\235a\\004\\025\\003T\\244`\\324|\\353ZqLe\\300\\342\\303\\t\\301X\\252-\\010\\202\\215\\026\\025\\217\\300\\203\\346&\\341\\312\\322\\352*\\020\\307\\242+:\\235\\314\\306\\014\\277\\377\\363\\204\\3049&1r\\210\\000\\326p\\2243\\177\\344<\\225\\362g\\272\\235\\325\\275\\320_\\240\\275Q\\276\\243_\\022\\345\\342\\213La\\027c\\014\\236\\231\\002\\236\\250\\232\\376v\\021\\256\\006\\020\\241\\320!r\\261K\\220\\2528\\204\\367u\\036\\222el-Y\\004\\276\\314\\311k\\001\\026%B\\277\\363\\r\\377\\312U\\377sX\\205\\372\\351\\324l\\210\\341@lv\\364\\256\\3451\\315\\177\\377p\\370BX\\243\\240Mh\\306FlY\\251\\021\\021\\321\\244`\\303A\\016\\210C\\022\\341LC\\\"@h\\300\\310\\324\\tVg\\023\\254\\236\\031*\\232\\211b#\\203\\315E\\340\\346Z\\202\\356\\2047xU\\311~S\\374\\233\\326\\263\\325\\357\\307\\2651\\374>\\327\\314j\\354\\346\\344vc\\254\\332\\003\\0034\\355#\\377\\363\\204\\304S\\'\\213N\\210\\000\\326Z\\274\\206\\232TU}\\326\\231a\\220\\330T\\025z8\\\"\\205F\\327\\010\\262\\007`\\343\\016x\\036\\'\\001\\316\\\\$\\016-\\322R\\231\\225B\\277\\267\\377\\377\\377\\377\\364\\355Rm\\333\\377\\377\\352]_\\377\\357\\324\\245\\323<\\\\\\003\\307\\275R\\206\\030\\023\\254t`\\377\\373+\\023UR\\201@QhH\\340e#.0 \\301\\\"a\\303\\201\\343C\\025)9\\364\\005k\\006\\036\\206\\010\\210F\\335\\027\\354\\276- 8%\\364;p\\035\\260t\\201\\315y\\224\\346\\253\\t\\204\\2758gkvp\\346\\260\\313Y}\\314\\256e\\2068c\\205\\252\\365\\351k\\306h\\351\\240w\\364\\272\\205\\374Z\\362\\321\\272)B\\n3\\004\\250\\216En#\\021S\\013\\\"\\002\\377\\363\\204\\304g\\'\\262^\\204\\000\\336\\\"\\270\\\\6\\300\\251\\037\\002\\343\\035 \\223-\\213\\2304\\364E\\223Ik\\327\\327\\263\\337\\367\\377\\377\\377\\377mG\\004\\'\\213\\213\\224\\377$\\273?\\370\\211\\200\\250\\210z\\230\\007BP\\345\\036Q\\357\\365[\\251.\\010\\2401\\217\\001\\307\\215|M\\225\\010\\320\\222 q\\031\\025\\305a\\301E\\022\\363\\t\\032\\221\\204\\006.4]q\\n\\212PR\\243\\220\\013F\\004O\\257\\266\\373O\\236p\\3664\\237\\2067?\\373\\366\\277_\\235\\2341\\373\\273\\317X\\366\\207\\225d\\335`2\\342Q8\\353\\0105\\007\\001\\206\\322\\277qhq\\356N\\366\\034!\\t\\315\\211\\236$!\\225\\004\\210\\362\\t\\322Pr\\303\\226\\'\\210\\261\\242\\321St\\273\\355\\255T}V\\377\\377\\377\\363\\204\\304{&\\013~\\200\\000\\336\\\"\\274\\377\\322\\272\\324\\305$\\314\\324\\245;)\\177\\377\\365\\377\\377\\377\\377\\377]5\\035 I\\277\\377\\320n\\204*q\\206C\\r\\024\\035\\3277\\203\\346\\nc\\345$E\\000U\\241\\247\\260D\\230;\\001b\\030\\200{x`\\340\\323\\013\\021\\\\\\214P\\213C\\201\\023m\\003\\020\\211<\\274uv\\025C\\007aO\\311\\256\\334\\377\\357\\331\\346\\177w\\232\\377\\265\\366ws\\267p\\325\\353R\\352W\\n\\031$!\\027\\305\\360\\333\\\"\\343\\240\\256)\\304\\220~\\244\\270&\\240\\276\\213<\\026\\201\\237\\006\\362\\tHB\\243HK\\311\\002\\211 ^g_\\253\\257B\\267\\376\\277\\377\\377\\376\\267SO$\\232&+H\\325\\003\\357\\377\\277\\375\\354\\273B\\346\\330\\262FP\\273\\377\\363\\204\\304\\225\\'bzx\\000\\336d\\270\\254JD\\177TzP^\\252e\\341q\\323a\\020-Q\\277\\272\\2421\\245\\005\\213\\000\\231\\372\\031\\226\\213\\005 \\315\\210$\\270\\000\\244\\345\\324`\\301-\\351\\010\\222\\247\\024R\\002\\202=!\\246}\\220\\223\\016\\267\\r\\304%\\327\\347wk,\\177?\\347\\353_\\317\\275\\316\\376;\\303-_\\312\\3165\\253W\\253^\\226\\005HdZQE\\002q\\337Y\\\\\\013\\031\\2218J\\002\\000\\013Jz\\\\\\370e\\305k\\3163\\372\\304r\\253=\\257\\357\\377\\375=?\\365\\377\\377\\357\\373\\325\\203\\302\\342\\262j\\306\\377\\357\\333\\377\\377\\247\\333\\377O\\363\\221\\304H\\326\\377\\265\\324T\\314\\0144\\227\\325\\324\\264{z\\231\\207&Y\\302\\002\\211\\212\\202\\204\\003\\263\\t\\377\\363\\204\\304\\252\\'\\3642p\\000\\336\\n\\334\\246\\214\\n\\0274iy3\\314qg\\016\\000\\030\\\\\\276\\0166\\256A\\340\\265P\\021\\t\\201$\\230\\\\\\020Yc\\372\\216\\212\\253\\2223\\'\\301\\256\\334\\205\\315Dl^\\325L\\267\\317\\357\\367\\017\\347q\\316\\316\\362\\374\\260\\326y\\177o]\\325\\231L\\335\\004n\\032\\023\\0018&\\013Q\\320\\232&\\003 N\\204\\030;\\205\\264\\224.\\014)\\201D\\2460\\303\\n>\\230-\\024\\325\\267\\366\\243\\377\\377\\377_\\327\\324\\217GwEF\\313\\032FG(\\365=o\\377\\356\\331\\265\\n\\255\\237\\213\\226\\003\\036w\\350P\\251\\220v\\026\\227\\034=\\027\\t\\000\\027\\237A\\251\\205-\\233!\\311\\205\\031\\233\\375\\221\\232\\020\\201\\227\\000A\\243\\243\\304@\\357S.Q\\377\\363\\204\\304\\275&rrh\\000\\346Z\\270\\344\\205\\020&p*\\031A\\326\\020]\\005\\302\\306\\236\\327-\\322\\202(\\345\\324\\370o\\016S\\337\\313\\275\\325\\312\\230\\177{\\255l\\241T\\351KRk^\\2726\\200\\022\\\"\\005\\tR\\\"&8\\210B%\\'*c\\333$\\275\\302\\240(\\362:Q2`\\200\\321s\\3579\\203\\3468\\251\\373\\221\\213\\321\\255pX\\351\\255N\\324,W\\355mW\\201\\014wS\\r\\006\\277Li\\321W)\\377\\304\\240\\255\\007O\\016\\225\\233\\364\\251\\250\\236\\231\\261\\271\\207 \\206>\\005\\013M\\010\\214B\\026d\\202\\353e\\nb\\021\\327\\226\\315\\247I\\207\\026yc\\246)xK\\332\\255\\021\\346\\332\\252!\\265>\\205\\250v\\215\\246V\\271\\336\\302\\211\\213\\304aez\\377\\363\\204\\304\\326$\\251v`\\000\\336R\\224\\343\\035\\305\\2526\\325\\321\\234\\220-\\257\\025\\210\\226\\006c\\251U\\t\\0232\\035\\t\\275C\\207\\352\\007&h\\260\\030\\330\\251\\016X\\2222\\222eK\\032\\341>\\334\\3033\\213\\267\\036\\325\\270\\233\\327\\207\\215\\304\\217_\\003\\342,g\\222\\276y\\025f<\\'\\034\\355\\206\\321)\\234\\333Q\\365<\\332\\246\\374-R\\365\\376\\360 \\322\\332\\304]\\353[\\372\\307\\336\\276\\352\\35717mow\\265f\\336\\363\\214G\\3263O\\351\\375m\\255\\373\\372\\356lg\\322\\273\\326\\357\\257]\\177\\255\\343W\\316\\361\\351L\\353:\\3351\\237]|oV\\366\\307\\315\\243k\\332b\\310\\2258tc&2=Raa\\343\\243\\0040\\2421\\244(\\201(sTO\\263\\377\\363\\204\\304\\3667\\224*T\\001[x\\001\\\"\\030\\223R?\\362E\\212\\226\\363W\\354)\\370\\022\\034\\001\\020\\024\\006\\001#\\253w\\353\\\"\\033\\037q\\324\\300\\004\\005\\004\\211\\367\\036\\3412\\330\\030$\\325\\r#\\270\\260\\000g\\227\\356Qw\\n\\t\\232K\\361\\026\\264\\3322y\\251`]#\\251\\036\\322\\032\\032j\\031\\275g\\274\\263\\234\\2268p<\\3638\\2070}\\016\\204A\\310\\001\\235#\\240p\\025\\252z\\216\\3067\\265\\375\\343\\201\\0023\\2113\\366\\254\\037b\\036M\\344H\\000\\244\\002\\024\\003\\227\\241\\367Z\\351\\tk\\\\\\355z\\364\\177=^\\222\\334\\\"G!\\225\\303\\360l5\\024\\207eTS\\351\\217$\\245]\\013\\221\\241&R\\0308q&\\236\\263\\377\\367\\256^\\257\\277\\253\\217?\\036\\377\\363\\204\\304\\312HD:P\\001\\233\\300\\000\\343+\\226aO^\\305\\356X\\307z\\326Wm\\265\\366=6\\363\\333\\275\\025\\177\\335\\310r\\323\\241zX\\343\\276\\230\\367}\\356}\\357\\377q\\3375\\337\\336\\033\\357i9\\3340\\316\\375%O\\251C~s\\034\\367\\312\\326\\265\\307\\021\\337\\355\\332\\355\\316\\333\\324\\364\\303\\363\\230Jc\\257\\243\\2515\\272W\\336_#8\\310.\\271\\266R\\272Si0\\200\\225\\032Z)w\\035\\235u\\230\\025\\251u\\374\\020\\322\\344\\202S\\263\\253[\\234\\261;\\n\\211\\323\\306\\203\\234\\340\\366\\026TY}1YT(k{thO\\024\\315\\221u\\230\\312\\3245\\360\\365-\\327\\306\\205\\327\\026\\333\\332\\262\\267&\\031\\206\\022\\351Fw8\\247e[B\\237\\034\\207+\\377\\363\\204\\304\\\\=\\023\\322l\\001\\231x\\001n[a]\\262\\010\\347\\027\\244\\250\\274\\023\\223\\024\\207\\230\\317\\337\\235,c\\230\\352W6@\\255\\025\\312U\\014\\027\\314\\321X\\221\\313\\204\\306\\0028\\177\\234\\350zE\\202\\014\\006\\024\\353B;\\rJ$R\\351\\016\\226Hn\\025jO\\253\\243Q\\205\\226\\023lT\\242\\212*\\243N\\360\\317\\032\\004\\315\\251\\3551+\\340Apz\\312\\270\\2371U\\021\\342\\321\\354\\224\\226\\377\\032\\362W^\\025\\253X\\252w\\252]\\266+\\337\\267G\\264\\260\\255\\033x\\314W\\272\\360t\\366\\023;\\352\\25480\\275\\265\\341cY\\2333\\033 W\\205<\\337\\320(\\206\\025\\022H\\020%\\231AV[I.\\2653\\r>\\316\\364k-\\343\\2165\\253SZ\\345\\234\\377\\363\\204\\304\\032,\\352\\262(\\001\\330x\\001l\\331\\253\\327\\264\\205f\\322R!#\\324q9=V\\253h\\177\\032J\\331\\255k|\\326\\266\\315k\\006\\265\\257\\264\\'\\317\\237F\\336`\\332\\333\\362\\275z\\255V\\276}kn\\326|\\372\\265\\377\\026\\336kk}\\374\\301z\\367,)\\3245\\rP\\262\\315\\365\\277Z\\327^\\325\\255kW\\251\\323D\\234\\253\\256\\365\\354_g\\317\\236\\305\\255kZ\\327Uz\\302\\255CP\\3244\\3454U\\321\\267]{>}^\\177\\002\\262\\n\\375x((\\251\\241\\005\\005\\005\\035\\010o\\374 \\247\\202\\203\\177\\357\\376\\336\\376\\005\\005B\\n4\\024T \\237\\260PR\\005\\214C\\316\\014\\236\\324\\364}\\351n\\262X2\\030\\211\\347V\\016\\207\\243\\230\\305\\242\\226\\377\\363\\204\\304\\031,t\\001\\364\\000\\333\\314\\335\\337\\271$`\\2660\\343\\036|\\270\\317\\014\\377\\027\\003%r\\216SD\\264\\320\\346\\334+\\335\\256]<\\316+}\\276\\275j\\343ut6H8\\264\\010\\262\\304\\334\\007\\215\\215\\371}=\\332\\235i\\222\\006mj\\346\\255\\347\\301\\252r( *\\346Hi\\351\\233\\233V\\331$\\355\\006\\317Ovy\\252dwrJi\\276\\374\\312\\251D\\375e\\343k,\\262\\216\\327v\\307\\334C\\256\\242~\\\\|[?\\312\\326\\233\\356\\333\\332\\263\\227\\256\\372\\314\\331\\217\\232\\307\\266\\271m\\035\\257c\\333\\233\\357m\\262&\\237+\\304\\243\\346;#\\213`\\021*\\273\\2327}B\\265\\362\\334\\232<k\\027\\021\\333\\223E\\\\\\026\\366\\236/\\003\\324\\241\\266\\340\\304j\\377\\363\\204\\304\\032,\\0349\\350\\000\\313\\314\\334OEU\\240\\261H\\355\\205\\353\\014s\\250\\362I\\r\\341\\344o\\307U*\\233\\227\\226\\335\\3372M\\022\\320\\255\\037\\337sD\\3063\\005\\226\\271\\255>\\276\\351\\251\\237F\\275\\236\\371\\341\\260\\333\\022I\\230p[\\237e\\304A\\305Q\\020\\224}\\371\\267\\323\\253\\010\\347\\371\\225\\250\\243\\237L:\\266M\\232\\365MY\\235,\\306\\2536{\\273\\375\\336\\314\\337\\374V\\025NuN5v\\250o\\376\\276\\366\\251\\377>\\275<\\326\\374l\\326\\362\\213l\\375:\\262a\\251m]\\253\\265>\\271\\250\\266\\374\\326\\2342\\236~\\363g\\344\\367\\226\\306\\244\\265\\371\\3259\\267\\203\\205\\010\\202\\240\\2328\\372\\251\\264sN\\\"\\272u\\237H\\035\\341o_Z\\242\\223\\322h\\377\\363\\204\\304\\034\\'{\\241\\334\\000\\323\\006\\275\\2229\\010J\\207m%\\027\\207eH\\233J\\201\\264o1.T\\306\\277gYeN\\335\\312\\272\\225\\332B\\322\\357Z\\315\\272mG\\243\\275Xz\\315l\\360j\\027]\\243 \\243GR\\254\\024\\225C\\006a_\\005\\032\\037\\017\\263\\254\\333r\\nh\\306R\\0331\\266\\27343#\\246\\301\\2056\\025U\\265U\\332231\\372\\251\\261\\354V\\253C\\312\\251\\005cmUU[*\\242o\\tl\\356\\253\\017U\\n\\'\\346g\\357\\344\\365\\327u\\010\\246Bq\\273\\264=\\212\\001\\203AI\\202\\004\\241\\034|\\274qR\\355\\303\\253a\\222\\300R\\331:T\\223\\270\\027\\305I\\271\\025H\\262\\252XW\\3259\\2241\\305t\\321g\\224sVep\\377\\363\\204\\3041(B\\021\\314\\000\\323\\314\\231\\342\\331\\022\\216qY\\340Al\\323c\\250.z\\'\\026d\\234\\035\\311\\272xyF\\233n\\234\\223c\\351\\236\\215O\\223\\351\\362\\215\\251\\276\\236\\020\\222\\263\\346\\312nfF4\\354F\\3072J\\317\\271\\260\\3460\\312\\301\\2300\\330`\\356\\023yr\\305\\233m\\345\\207t\\251\\347\\221\\245b\\347\\221\\221+\\314\\021$\\213\\230`\\211\\025q\\202%\\234\\014\\311\\'\\315[\\031<\\371\\201\\317<|\\371T\\361\\363\\r\\336\\\"\\010\\214\\301\\304\\327\\202\\266!\\2740\\316\\032\\344j\\007\\260\\355SM\\273S\\000\\360\\244\\214\\026\\311\\212\\232\\202\\023\\315\\362F\\332$h\\364\\325u\\'\\316\\\\\\n\\370\\025\\364\\256G\\266\\346[s-\\354\\243\\372\\260\\302\\3675\\'8N\\377\\363\\204\\304C&k\\231\\334\\000\\322F\\2751!\\303\\t\\026\\010I\\306\\314\\023\\262\\001\\301i\\2314\\254\\340\\225\\301\\021\\303\\3529\\210vB#^S\\t\\n\\227H\\311\\212\\231]K\\217\\223\\322\\347ga_\\207\\346T\\216\\023|\\321\\342<\\20754\\254\\225\\236_t\\335\\362|\\214\\252\\232\\00322\\001\\3500X\\022\\264\\311\\021!\\340~\\275-OM9t\\214\\221\\020rd,Ft:0\\271\\346 \\272\\031|\\020\\354\\305\\237\\2006\\010&\\031\\002\\214\\010\\301\\303\\255\\016\\t\\310\\303\\305^HN\\201RcL\\021\\240M\\021\\226\\312\\034_P\\037\\006\\235\\210\\'\\006\\222F\\314<\\275Rf\\026\\330\\232q$\\246\\340\\272\\251\\262\\217lM\\010z\\304\\325\\264\\214\\273;N\\301e\\263\\377\\363\\204\\304\\\\&\\231\\305\\314\\000\\322L\\225Z\\005\\205\\206F\\006\\246\\205H\\322\\220\\016\\nB\\321RU::\\247\\003\\\"\\270\\035\\226j\\225\\232%\\200f\\321\\231\\265`\\214n\\r\\242\\036\\263^\\253\\201\\273L\\235\\023\\245\\275e\\243\\033U\\325\\207\\352\\270b\\335\\t\\345J6|R@#\\213\\020\\240I\\\"\\230I\\312\\242\\314!\\223\\264\\027y\\365\\216\\t\\304\\241a\\021r\\002s\\304\\302\\222!\\222\\346\\t\\210N#<LBU\\003ni\\n\\327\\010=T\\246\\303HK$\\215\\302\\2243\\221\\265\\216\\203\\211\\014\\024\\030\\201\\325\\2512\\330\\350j\\313!\\253T5\\014\\t\\310\\325\\254\\362j\\206\\254\\026\\211\\006\\251j\\252X&\\205\\212\\312\\rH\\224UV\\212\\245\\202b,V\\337\\331U%\\377\\363\\204\\304t%y\\331\\240\\000\\302F\\231\\rZ\\264R\\255%\\246d\\264\\242\\'*\\244\\271\\262S%(9-\\277\\351U\\025j\\261v\\352\\365\\251\\241jv\\rLAME3.100UUUUUUUUUUUUUUUUUUUUUUUUUUUUUUUUUUUUUUUUUUUUUUUUUUUUUUUUUUUULAME3.100UUUUUUUUUUUUUUUUUUUUUUUUUUUUUUUUUUUUUUUUUUUUUUUUUUUUUUUUUUUUUUUUUUU\\377\\363\\204\\304L\\000\\000\\003H\\000\\000\\000\\000UUUUUUUUUUUUUUUUUUUUUUUUUUUUUUUUUUUUUUUUUUUUUUUUUUUUUUUUUUUUUUUUUUUUUUUUUUUUUUUUUUUUUUUUUUUUUUUUUUUUUUULAME3.100UUUUUUUUUUUUUUUUUUUUUUUUUUUUUUUUUUUUUUUUUUUUUUUUUUUUUUUUUUUUUUUUUUU\\377\\363\\204\\304L\\000\\000\\003H\\000\\000\\000\\000UUUUUUUUUUUUUUUUUUUUUUUUUUUUUUUUUUUUUUUUUUUUUUUUUUUUUUUUUUUUUUUUUUUUUUUUUUUUUUUUUUUUUUUUUUUUUUUUUUUUUUULAME3.100UUUUUUUUUUUUUUUUUUUUUUUUUUUUUUUUUUUUUUUUUUUUUUUUUUUUUUUUUUUUUUUUUUU\\377\\363\\204\\304L\\000\\000\\003H\\000\\000\\000\\000UUUUUUUUUUUUUUUUUUUUUUUUUUUUUUUUUUUUUUUUUUUUUUUUUUUUUUUUUUUUUUUUUUUUUUUUUUUUUUUUUUUUUUUUUUUUUUUUUUUUUUUUUUUUUUUUUUUUUUUUUUUUUUUUUUUUUUUUUUUUUUUUUUUUUUUUUUUUUUUUUUUUUUUUUUUUUUUUUUU\"\n",
      "\n"
     ]
    }
   ],
   "source": [
    "text_to_speech(text = 'hello world')"
   ]
  },
  {
   "cell_type": "code",
   "execution_count": null,
   "metadata": {},
   "outputs": [],
   "source": []
  }
 ],
 "metadata": {
  "kernelspec": {
   "display_name": "Python 3 (ipykernel)",
   "language": "python",
   "name": "python3"
  },
  "language_info": {
   "codemirror_mode": {
    "name": "ipython",
    "version": 3
   },
   "file_extension": ".py",
   "mimetype": "text/x-python",
   "name": "python",
   "nbconvert_exporter": "python",
   "pygments_lexer": "ipython3",
   "version": "3.9.13"
  }
 },
 "nbformat": 4,
 "nbformat_minor": 2
}
